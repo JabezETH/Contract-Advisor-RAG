{
 "cells": [
  {
   "cell_type": "code",
   "execution_count": 1,
   "metadata": {},
   "outputs": [],
   "source": [
    "import sys\n",
    "sys.path.insert(1, '/home/jabez/week_11/Contract-Advisor-RAG/scripts')\n",
    "from docx import Document"
   ]
  },
  {
   "cell_type": "code",
   "execution_count": 1,
   "metadata": {},
   "outputs": [
    {
     "name": "stderr",
     "output_type": "stream",
     "text": [
      "USER_AGENT environment variable not set, consider setting it to identify your requests.\n"
     ]
    }
   ],
   "source": [
    "import sys\n",
    "sys.path.insert(1, '/home/jabez/week_11/Contract-Advisor-RAG/scripts')\n",
    "import data_processing\n",
    "import pipeline\n",
    "user_input = 'Under what circumstances and to what extent the Sellers are responsible for a breach of representations and warranties?'\n",
    "file_path = '/home/jabez/week_11/Contract-Advisor-RAG/data/Raptor Contract.docx'\n",
    "doc = data_processing.doc_loader(file_path)\n",
    "vector = data_processing.text_splitter(doc)\n",
    "result = pipeline.chatbot(vector, user_input)"
   ]
  },
  {
   "cell_type": "code",
   "execution_count": 4,
   "metadata": {},
   "outputs": [
    {
     "data": {
      "text/plain": [
       "\"The Sellers are responsible for a breach of representations and warranties when it is due to gross negligence, bad faith, or willful misconduct on the part of the Sellers' Representative. The Sellers' Representative can rely on advice from experts in good faith without liability to any Seller. Each Seller must indemnify the Sellers' Representative for Losses, except those caused by gross negligence, bad faith, or willful misconduct.\""
      ]
     },
     "execution_count": 4,
     "metadata": {},
     "output_type": "execute_result"
    }
   ],
   "source": [
    "result"
   ]
  }
 ],
 "metadata": {
  "kernelspec": {
   "display_name": "Python 3",
   "language": "python",
   "name": "python3"
  },
  "language_info": {
   "codemirror_mode": {
    "name": "ipython",
    "version": 3
   },
   "file_extension": ".py",
   "mimetype": "text/x-python",
   "name": "python",
   "nbconvert_exporter": "python",
   "pygments_lexer": "ipython3",
   "version": "3.10.12"
  }
 },
 "nbformat": 4,
 "nbformat_minor": 2
}
